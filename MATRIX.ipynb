{
 "cells": [
  {
   "cell_type": "code",
   "execution_count": 4,
   "metadata": {},
   "outputs": [
    {
     "name": "stdout",
     "output_type": "stream",
     "text": [
      "--Addition--\n",
      "[[ 6  8]\n",
      " [10 12]]\n",
      "\n",
      "--Subtraction--\n",
      "[[-4 -4]\n",
      " [-4 -4]]\n",
      "\n",
      "--Element-wise Multiplication--\n",
      "[[ 5 12]\n",
      " [21 32]]\n",
      "\n",
      "--Matrix Multiplication--\n",
      "[[19 22]\n",
      " [43 50]]\n",
      "\n",
      "--Transpose--\n",
      "[[1 3]\n",
      " [2 4]]\n",
      "\n",
      "--Original Matrix--\n",
      "[[1 2 3]\n",
      " [4 5 6]\n",
      " [7 8 9]]\n",
      "\n",
      "--Reconstructed Matrix (with reduced dimensions)--\n",
      "[[1. 2. 3.]\n",
      " [4. 5. 6.]\n",
      " [7. 8. 9.]]\n"
     ]
    }
   ],
   "source": [
    "import numpy as np\n",
    "# Create matrices\n",
    "A= np.array([[1, 2], [3, 4]])\n",
    "B = np.array([[5, 6], [7, 8]])\n",
    "#Addition\n",
    "C = A + B\n",
    "#Subtraction\n",
    "D = A - B\n",
    "#Multiplication(element-wise)\n",
    "E = A * B\n",
    "#Matrix multiplication\n",
    "F = np.dot(A,B)# or A @ B\n",
    "#Transpose\n",
    "A_transpose = A.T\n",
    "print(\"--Addition--\")\n",
    "print(C)\n",
    "print(\"\\n--Subtraction--\")\n",
    "print(D)\n",
    "print(\"\\n--Element-wise Multiplication--\")\n",
    "print(E)\n",
    "print(\"\\n--Matrix Multiplication--\")\n",
    "print(F)\n",
    "print(\"\\n--Transpose--\")\n",
    "print(A_transpose)\n",
    "\n",
    "import numpy as np\n",
    "#creste a sample matrix\n",
    "X =np.array([[1,2,3],[4,5,6],[7,8,9]])\n",
    "#Perform SVD\n",
    "U,S,VT =np.linalg.svd(X)\n",
    "#choode the number of component to keep (eg.2)\n",
    "n_components=2\n",
    "# reconstructed the matrix with reduced dimentions\n",
    "X_reconstructed=np.dot(U[:,:n_components],np.dot(np.diag(S[:n_components]),VT[:n_components,:]))\n",
    "print(\"\\n--Original Matrix--\")\n",
    "print(X)\n",
    "print(\"\\n--Reconstructed Matrix (with reduced dimensions)--\")\n",
    "print(X_reconstructed)\n",
    "\n"
   ]
  },
  {
   "cell_type": "code",
   "execution_count": null,
   "metadata": {
    "collapsed": true
   },
   "outputs": [],
   "source": []
  }
 ],
 "metadata": {
  "kernelspec": {
   "display_name": "Python 3",
   "language": "python",
   "name": "python3"
  },
  "language_info": {
   "codemirror_mode": {
    "name": "ipython",
    "version": 3
   },
   "file_extension": ".py",
   "mimetype": "text/x-python",
   "name": "python",
   "nbconvert_exporter": "python",
   "pygments_lexer": "ipython3",
   "version": "3.6.3"
  }
 },
 "nbformat": 4,
 "nbformat_minor": 2
}
